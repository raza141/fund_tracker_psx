{
 "cells": [
  {
   "cell_type": "code",
   "execution_count": 1,
   "metadata": {},
   "outputs": [],
   "source": [
    "import os\n",
    "from pathlib import Path \n",
    "import pandas as pd, numpy as np, datetime \n",
    "import matplotlib.pyplot as plt, seaborn as sns \n",
    "import plotly.graph_objects as go\n",
    "from utils.fipi_lipi_processor import FIPIDataProcessor\n",
    "\n",
    "\n",
    "sns.set_style('darkgrid')\n",
    "plt.rcParams['figure.figsize'] = (18, 6)\n",
    "plt.rcParams['font.size'] = 14\n",
    "plt.rcParams['figure.dpi'] = 300\n",
    "pd.set_option('display.max_columns', 500)\n",
    "pd.set_option('display.max_rows', 500)\n",
    "\n",
    "%reload_ext autoreload\n",
    "%autoreload 2"
   ]
  },
  {
   "cell_type": "code",
   "execution_count": 2,
   "metadata": {},
   "outputs": [],
   "source": [
    "from config.config import (FIPI_DIR, LIPI_DIR, PROCESSED_FIPI_LIPI_DIR)"
   ]
  },
  {
   "cell_type": "code",
   "execution_count": 26,
   "metadata": {},
   "outputs": [
    {
     "name": "stdout",
     "output_type": "stream",
     "text": [
      "Scanning directory: 2019\n",
      "Scanning directory: 2020\n",
      "Scanning directory: 2021\n",
      "Scanning directory: 2022\n",
      "Scanning directory: 2023\n",
      "Scanning directory: 2024\n",
      "Error: No CSV files found in the directory.\n"
     ]
    },
    {
     "data": {
      "text/html": [
       "<div>\n",
       "<style scoped>\n",
       "    .dataframe tbody tr th:only-of-type {\n",
       "        vertical-align: middle;\n",
       "    }\n",
       "\n",
       "    .dataframe tbody tr th {\n",
       "        vertical-align: top;\n",
       "    }\n",
       "\n",
       "    .dataframe thead th {\n",
       "        text-align: right;\n",
       "    }\n",
       "</style>\n",
       "<table border=\"1\" class=\"dataframe\">\n",
       "  <thead>\n",
       "    <tr style=\"text-align: right;\">\n",
       "      <th></th>\n",
       "    </tr>\n",
       "  </thead>\n",
       "  <tbody>\n",
       "  </tbody>\n",
       "</table>\n",
       "</div>"
      ],
      "text/plain": [
       "Empty DataFrame\n",
       "Columns: []\n",
       "Index: []"
      ]
     },
     "execution_count": 26,
     "metadata": {},
     "output_type": "execute_result"
    }
   ],
   "source": [
    "directory = LIPI_DIR  # Directory containing your FIPI CSV files\n",
    "processor = FIPIDataProcessor(directory)\n",
    "\n",
    "\n",
    "cleaned_data = processor.process_files()\n",
    "cleaned_data.head()"
   ]
  },
  {
   "cell_type": "code",
   "execution_count": 23,
   "metadata": {},
   "outputs": [
    {
     "data": {
      "text/plain": [
       "['2019', '2020', '2021', '2022', '2023', '2024']"
      ]
     },
     "execution_count": 23,
     "metadata": {},
     "output_type": "execute_result"
    }
   ],
   "source": [
    "list_dir = os.listdir(FIPI_DIR)\n",
    "list_dir"
   ]
  },
  {
   "cell_type": "code",
   "execution_count": 24,
   "metadata": {},
   "outputs": [
    {
     "name": "stdout",
     "output_type": "stream",
     "text": [
      "2019\n",
      "<nt.ScandirIterator object at 0x00000202F4402610>\n",
      "2020\n",
      "<nt.ScandirIterator object at 0x00000202F4401DD0>\n",
      "2021\n",
      "<nt.ScandirIterator object at 0x00000202F4400510>\n",
      "2022\n",
      "<nt.ScandirIterator object at 0x00000202F4400250>\n",
      "2023\n",
      "<nt.ScandirIterator object at 0x00000202F4400250>\n",
      "2024\n",
      "<nt.ScandirIterator object at 0x00000202F4400A90>\n"
     ]
    }
   ],
   "source": [
    "for dir in list_dir:\n",
    "    dir_path = Path(FIPI_DIR)/dir\n",
    "    if dir_path.is_dir():\n",
    "        print(dir_path.name)\n",
    "        print(os.scandir(dir_path))"
   ]
  },
  {
   "cell_type": "code",
   "execution_count": 6,
   "metadata": {},
   "outputs": [
    {
     "ename": "TypeError",
     "evalue": "can only concatenate str (not \"list\") to str",
     "output_type": "error",
     "traceback": [
      "\u001b[1;31m---------------------------------------------------------------------------\u001b[0m",
      "\u001b[1;31mTypeError\u001b[0m                                 Traceback (most recent call last)",
      "Cell \u001b[1;32mIn[6], line 1\u001b[0m\n\u001b[1;32m----> 1\u001b[0m \u001b[38;5;28;01mfor\u001b[39;00m i \u001b[38;5;129;01min\u001b[39;00m os\u001b[38;5;241m.\u001b[39mscandir(\u001b[43mFIPI_DIR\u001b[49m\u001b[43m \u001b[49m\u001b[38;5;241;43m+\u001b[39;49m\u001b[43m \u001b[49m\u001b[43mlist_dir\u001b[49m):\n\u001b[0;32m      2\u001b[0m     \u001b[38;5;28;01mif\u001b[39;00m i\u001b[38;5;241m.\u001b[39mis_file():\n\u001b[0;32m      3\u001b[0m         \u001b[38;5;28mprint\u001b[39m(i\u001b[38;5;241m.\u001b[39mname\u001b[38;5;241m.\u001b[39msplit(\u001b[38;5;124m'\u001b[39m\u001b[38;5;124mfipi\u001b[39m\u001b[38;5;124m'\u001b[39m)[\u001b[38;5;241m0\u001b[39m])\n",
      "\u001b[1;31mTypeError\u001b[0m: can only concatenate str (not \"list\") to str"
     ]
    }
   ],
   "source": [
    "for i in os.scandir(FIPI_DIR + list_dir):\n",
    "    if i.is_file():\n",
    "        print(i.name.split('fipi')[0])\n"
   ]
  },
  {
   "cell_type": "code",
   "execution_count": null,
   "metadata": {},
   "outputs": [],
   "source": []
  }
 ],
 "metadata": {
  "kernelspec": {
   "display_name": ".venv",
   "language": "python",
   "name": "python3"
  },
  "language_info": {
   "codemirror_mode": {
    "name": "ipython",
    "version": 3
   },
   "file_extension": ".py",
   "mimetype": "text/x-python",
   "name": "python",
   "nbconvert_exporter": "python",
   "pygments_lexer": "ipython3",
   "version": "3.10.0"
  }
 },
 "nbformat": 4,
 "nbformat_minor": 2
}
